{
 "cells": [
  {
   "cell_type": "markdown",
   "id": "8edd43cb-268c-480e-95c1-2376d74cd5ed",
   "metadata": {
    "tags": []
   },
   "source": [
    "# Data Science Tools and Ecosystem"
   ]
  },
  {
   "cell_type": "markdown",
   "id": "9b1e5375-80d1-434f-834c-62ced57842e7",
   "metadata": {},
   "source": [
    "In this notebook, **Data Science Tools** and **Ecosystem** are summarized."
   ]
  },
  {
   "cell_type": "markdown",
   "id": "f08d1e55-dd61-4b65-899e-ca908d600737",
   "metadata": {},
   "source": [
    "**Objectives**\n",
    "- Data Science Languages\n",
    "- Data Science Libraries\n",
    "- Data Science Tools"
   ]
  },
  {
   "cell_type": "markdown",
   "id": "3cc2b081-04aa-42a8-a115-4466c8e09eb6",
   "metadata": {
    "tags": []
   },
   "source": [
    "## Data Science Languages:\n",
    "Some of the popular **languages** that Data Scientists use are:\n",
    "1. Python\n",
    "2. R\n",
    "3. Julia\n",
    "4. Scala"
   ]
  },
  {
   "cell_type": "markdown",
   "id": "a4471d94-0dec-4d84-9ae0-5559b725355f",
   "metadata": {},
   "source": [
    "## Data Science Libraries: \n",
    "Some of the commonly used ***libraries*** used by Data Scientists include:\n",
    "1. Matplotlib\n",
    "2. Seaborn\n",
    "3. ggplot2\n",
    "4. scikit-learn\n",
    "5. TensorFlow"
   ]
  },
  {
   "cell_type": "markdown",
   "id": "f1bcbd64-a118-481a-bc57-2dee233de4bd",
   "metadata": {},
   "source": [
    "## Data Science tools\n",
    "\n",
    "| Data Science Tools |\n",
    "| ------ |\n",
    "| Jupyter Lab|\n",
    "| R Studio |\n",
    "| Visual Studio Code |\n"
   ]
  },
  {
   "cell_type": "markdown",
   "id": "22ad7b4b-009c-4a82-b4d0-6788b8db6c36",
   "metadata": {},
   "source": [
    "### Below are a few examples of evaluating arithmetic expressions in Python\n"
   ]
  },
  {
   "cell_type": "code",
   "execution_count": 36,
   "id": "d4e323cf-ebe8-4854-9877-9c91b7075f05",
   "metadata": {},
   "outputs": [
    {
     "data": {
      "text/plain": [
       "17"
      ]
     },
     "execution_count": 36,
     "metadata": {},
     "output_type": "execute_result"
    }
   ],
   "source": [
    "# This a simple arithmetic expression to mutiply then add integers\n",
    "(3*4)+5"
   ]
  },
  {
   "cell_type": "code",
   "execution_count": 37,
   "id": "63ae1633-8e15-4f09-9477-c3b0e8a09092",
   "metadata": {},
   "outputs": [
    {
     "name": "stdout",
     "output_type": "stream",
     "text": [
      "3 hours and 20 minutes\n"
     ]
    }
   ],
   "source": [
    "# This will convert 200 minutes to hours by dividing by 60\n",
    "hrs=(200 // 60) \n",
    "mins= (200 % 60) \n",
    "print(str(hrs) + \" hours and \" + str(mins) + \" minutes\")\n"
   ]
  },
  {
   "cell_type": "markdown",
   "id": "0a80f680-c56e-4447-9cf0-38c45b84f627",
   "metadata": {},
   "source": [
    "## Author:\n",
    "Wael Nabil Abdel Fattah"
   ]
  },
  {
   "cell_type": "code",
   "execution_count": null,
   "id": "a36fcf7c-4676-4f55-8712-f575e0979e9e",
   "metadata": {},
   "outputs": [],
   "source": []
  },
  {
   "cell_type": "code",
   "execution_count": null,
   "id": "11f787ef-5719-4890-883c-3c685ec39d69",
   "metadata": {},
   "outputs": [],
   "source": []
  }
 ],
 "metadata": {
  "kernelspec": {
   "display_name": "Python 3 (ipykernel)",
   "language": "python",
   "name": "python3"
  },
  "language_info": {
   "codemirror_mode": {
    "name": "ipython",
    "version": 3
   },
   "file_extension": ".py",
   "mimetype": "text/x-python",
   "name": "python",
   "nbconvert_exporter": "python",
   "pygments_lexer": "ipython3",
   "version": "3.10.9"
  }
 },
 "nbformat": 4,
 "nbformat_minor": 5
}
